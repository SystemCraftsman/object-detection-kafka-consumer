{
 "cells": [
  {
   "cell_type": "code",
   "execution_count": null,
   "metadata": {},
   "outputs": [],
   "source": [
    "import sys\n",
    "!{sys.executable} -m pip install -r requirements.txt"
   ]
  },
  {
   "cell_type": "code",
   "execution_count": null,
   "metadata": {},
   "outputs": [],
   "source": [
    "KAFKA_BOOTSTRAP_SERVER = ''\n",
    "KAFKA_SECURITY_PROTOCOL = 'SASL_SSL'\n",
    "KAFKA_SASL_MECHANISM = 'PLAIN'\n",
    "KAFKA_USERNAME = ''\n",
    "KAFKA_PASSWORD = ''\n",
    "KAFKA_CONSUMER_GROUP = 'notebook-consumer-group'\n",
    "KAFKA_CONSUMER_TOPIC = 'images'\n",
    "KAFKA_PRODUCER_TOPIC = 'objects'"
   ]
  },
  {
   "cell_type": "code",
   "execution_count": null,
   "metadata": {},
   "outputs": [],
   "source": [
    "from kafka import KafkaConsumer, KafkaProducer\n",
    "\n",
    "\n",
    "def create_consumer():\n",
    "    consumer = KafkaConsumer(KAFKA_CONSUMER_TOPIC,\n",
    "                             group_id=KAFKA_CONSUMER_GROUP,\n",
    "                             bootstrap_servers=[KAFKA_BOOTSTRAP_SERVER],\n",
    "                             security_protocol=KAFKA_SECURITY_PROTOCOL,\n",
    "                             sasl_mechanism=KAFKA_SASL_MECHANISM,\n",
    "                             sasl_plain_username=KAFKA_USERNAME,\n",
    "                             sasl_plain_password=KAFKA_PASSWORD,\n",
    "                             auto_offset_reset='earliest',\n",
    "                             api_version_auto_timeout_ms=30000,\n",
    "                             request_timeout_ms=450000)\n",
    "\n",
    "    print(f'Subscribed to \"{KAFKA_BOOTSTRAP_SERVER}\" consuming topic \"{KAFKA_CONSUMER_TOPIC}\"...')\n",
    "\n",
    "    try:\n",
    "        for record in consumer:\n",
    "            msg = record.value.decode('utf-8')\n",
    "            topic = record.topic\n",
    "            print(('Received the following message on the '\n",
    "                   f'topic \"{topic}\": {msg}'))\n",
    "\n",
    "    finally:\n",
    "        print(\"Closing consumer...\")\n",
    "        consumer.close()\n",
    "    print(\"Kafka consumer stopped.\")\n",
    "\n"
   ]
  },
  {
   "cell_type": "code",
   "execution_count": null,
   "metadata": {},
   "outputs": [],
   "source": [
    "\n",
    "try:\n",
    "    create_consumer()\n",
    "except KeyboardInterrupt:\n",
    "    print('Stopped')\n"
   ]
  },
  {
   "cell_type": "code",
   "execution_count": null,
   "metadata": {},
   "outputs": [],
   "source": []
  }
 ],
 "metadata": {
  "kernelspec": {
   "display_name": "Python 3",
   "language": "python",
   "name": "python3"
  },
  "language_info": {
   "codemirror_mode": {
    "name": "ipython",
    "version": 3
   },
   "file_extension": ".py",
   "mimetype": "text/x-python",
   "name": "python",
   "nbconvert_exporter": "python",
   "pygments_lexer": "ipython3",
   "version": "3.6.8"
  }
 },
 "nbformat": 4,
 "nbformat_minor": 4
}
