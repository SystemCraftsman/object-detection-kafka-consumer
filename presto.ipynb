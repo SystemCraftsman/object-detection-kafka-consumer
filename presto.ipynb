{
 "cells": [
  {
   "cell_type": "code",
   "execution_count": null,
   "metadata": {},
   "outputs": [],
   "source": [
    "import sys\n",
    "!{sys.executable} -m pip install presto-python-client"
   ]
  },
  {
   "cell_type": "code",
   "execution_count": null,
   "metadata": {},
   "outputs": [],
   "source": [
    "import prestodb\n",
    "conn=prestodb.dbapi.connect(\n",
    "    host='rhods-presto.presto.svc.cluster.local',\n",
    "    port=8080,\n",
    "    user='admin'\n",
    ")\n",
    "cur = conn.cursor()\n",
    "cur.execute('SELECT * FROM system.runtime.nodes')\n",
    "rows = cur.fetchall()\n",
    "rows"
   ]
  },
  {
   "cell_type": "code",
   "execution_count": null,
   "metadata": {},
   "outputs": [],
   "source": [
    "import prestodb\n",
    "conn=prestodb.dbapi.connect(\n",
    "    host='rhods-presto.presto.svc.cluster.local',\n",
    "    port=8080,\n",
    "    user='admin',\n",
    "    catalog='kafka',\n",
    "    schema='tpch',\n",
    ")\n",
    "cur = conn.cursor()\n",
    "cur.execute('SHOW TABLES')\n",
    "rows = cur.fetchall()\n",
    "rows"
   ]
  },
  {
   "cell_type": "code",
   "execution_count": null,
   "metadata": {},
   "outputs": [],
   "source": [
    "import prestodb\n",
    "conn=prestodb.dbapi.connect(\n",
    "    host='rhods-presto.presto.svc.cluster.local',\n",
    "    port=8080,\n",
    "    user='admin',\n",
    "    catalog='kafka',\n",
    "    schema='tpch',\n",
    ")\n",
    "cur = conn.cursor()\n",
    "cur.execute('DESCRIBE customer')\n",
    "rows = cur.fetchall()\n",
    "rows"
   ]
  },
  {
   "cell_type": "code",
   "execution_count": null,
   "metadata": {},
   "outputs": [],
   "source": [
    "import prestodb\n",
    "conn=prestodb.dbapi.connect(\n",
    "    host='rhods-presto.presto.svc.cluster.local',\n",
    "    port=8080,\n",
    "    user='admin',\n",
    "    catalog='kafka',\n",
    "    schema='tpch',\n",
    ")\n",
    "cur = conn.cursor()\n",
    "cur.execute('SELECT * FROM customer')\n",
    "rows = cur.fetchall()\n",
    "rows"
   ]
  },
  {
   "cell_type": "code",
   "execution_count": null,
   "metadata": {},
   "outputs": [],
   "source": []
  }
 ],
 "metadata": {
  "kernelspec": {
   "display_name": "Python 3",
   "language": "python",
   "name": "python3"
  },
  "language_info": {
   "codemirror_mode": {
    "name": "ipython",
    "version": 3
   },
   "file_extension": ".py",
   "mimetype": "text/x-python",
   "name": "python",
   "nbconvert_exporter": "python",
   "pygments_lexer": "ipython3",
   "version": "3.6.8"
  }
 },
 "nbformat": 4,
 "nbformat_minor": 4
}
