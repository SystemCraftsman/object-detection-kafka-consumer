{
 "cells": [
  {
   "cell_type": "markdown",
   "id": "5e681bdc-4a2f-49df-be51-4aa474475dfa",
   "metadata": {},
   "source": [
    "# Kafka/Strimzi Setup"
   ]
  },
  {
   "cell_type": "code",
   "execution_count": null,
   "id": "8a13b8ea-1d84-43fc-b83a-8bd5b277bc4e",
   "metadata": {
    "tags": []
   },
   "outputs": [],
   "source": [
    "!pip install -r requirements.txt"
   ]
  },
  {
   "cell_type": "code",
   "execution_count": 29,
   "id": "dd658a1f-581d-4370-9ed4-02fa1ad59b10",
   "metadata": {
    "tags": []
   },
   "outputs": [
    {
     "name": "stdout",
     "output_type": "stream",
     "text": [
      "Error from server (AlreadyExists): project.project.openshift.io \"kafka\" already exists\n"
     ]
    }
   ],
   "source": [
    "!oc new-project kafka"
   ]
  },
  {
   "cell_type": "code",
   "execution_count": 30,
   "id": "f590c1cf-0572-41d8-ab7a-9466eb424a85",
   "metadata": {},
   "outputs": [
    {
     "name": "stdout",
     "output_type": "stream",
     "text": [
      "kafka.kafka.strimzi.io/my-cluster created\n"
     ]
    }
   ],
   "source": [
    "!kfk clusters --create --cluster my-cluster --replicas 1 --zk-replicas 1 -n kafka -y"
   ]
  },
  {
   "cell_type": "code",
   "execution_count": 44,
   "id": "2161ed8d-dd4a-4d49-a70b-5a069de87a74",
   "metadata": {},
   "outputs": [
    {
     "name": "stdout",
     "output_type": "stream",
     "text": [
      "NAME         DESIRED KAFKA REPLICAS   DESIRED ZK REPLICAS   READY   WARNINGS\n",
      "my-cluster   1                        1                     True    True\n"
     ]
    }
   ],
   "source": [
    "!kfk clusters --list -n kafka"
   ]
  },
  {
   "cell_type": "code",
   "execution_count": 31,
   "id": "5908ecca-e5bc-490b-af31-eb032d963215",
   "metadata": {},
   "outputs": [
    {
     "name": "stdout",
     "output_type": "stream",
     "text": [
      "kafkatopic.kafka.strimzi.io/images created\n"
     ]
    }
   ],
   "source": [
    "!kfk topics --create --topic images --partitions 1 --replication-factor 1 -c my-cluster -n kafka"
   ]
  },
  {
   "cell_type": "code",
   "execution_count": 32,
   "id": "37d4d81d-0cea-41e4-884b-eb101b6398d9",
   "metadata": {},
   "outputs": [
    {
     "name": "stdout",
     "output_type": "stream",
     "text": [
      "kafkatopic.kafka.strimzi.io/objects created\n"
     ]
    }
   ],
   "source": [
    "!kfk topics --create --topic objects --partitions 1 --replication-factor 1 -c my-cluster -n kafka"
   ]
  },
  {
   "cell_type": "code",
   "execution_count": 33,
   "id": "1e0ada27-400f-4d57-affa-32d6157626b8",
   "metadata": {},
   "outputs": [
    {
     "name": "stdout",
     "output_type": "stream",
     "text": [
      "kafkatopic.kafka.strimzi.io/notebook-test created\n"
     ]
    }
   ],
   "source": [
    "!kfk topics --create --topic notebook-test --partitions 1 --replication-factor 1 -c my-cluster -n kafka"
   ]
  },
  {
   "cell_type": "code",
   "execution_count": 41,
   "id": "bc9d345b-f6b9-4255-a890-7ea4cfbf8af3",
   "metadata": {},
   "outputs": [
    {
     "name": "stdout",
     "output_type": "stream",
     "text": [
      "NAME                                                                                               CLUSTER      PARTITIONS   REPLICATION FACTOR   READY\n",
      "consumer-offsets---84e7a678d08f4bd226872e5cdd4eb527fadc1c6a                                        my-cluster   50           1                    True\n",
      "images                                                                                             my-cluster   1            1                    True\n",
      "notebook-test                                                                                      my-cluster   1            1                    True\n",
      "objects                                                                                            my-cluster   1            1                    True\n",
      "strimzi-store-topic---effb8e3e057afce1ecf67c3f5d8e4e3ff177fc55                                     my-cluster   1            1                    True\n",
      "strimzi-topic-operator-kstreams-topic-store-changelog---b75e702040b99be8a9263134de3507fc0cc4017b   my-cluster   1            1                    True\n"
     ]
    }
   ],
   "source": [
    "!kfk topics --list -c my-cluster -n kafka"
   ]
  },
  {
   "cell_type": "code",
   "execution_count": 46,
   "id": "c0597e86-111b-449a-9594-ed8dffcc2e0e",
   "metadata": {},
   "outputs": [
    {
     "name": "stdout",
     "output_type": "stream",
     "text": [
      "Unable to use a TTY - input is not a terminal or the right kind of file\n"
     ]
    }
   ],
   "source": [
    "!kfk console-producer --topic notebook-test -n kafka -c my-cluster <<< \"This is a test message\""
   ]
  },
  {
   "cell_type": "code",
   "execution_count": null,
   "id": "ad84385e-b560-4f4b-81af-e513f3f65880",
   "metadata": {},
   "outputs": [
    {
     "name": "stdout",
     "output_type": "stream",
     "text": [
      "asdfg\n",
      "sdfdsgdfgdfgdf\n",
      "This is a test message\n"
     ]
    }
   ],
   "source": [
    "!kfk console-consumer --topic notebook-test -n kafka -c my-cluster --from-beginning"
   ]
  },
  {
   "cell_type": "code",
   "execution_count": null,
   "id": "8280e2fb-4c38-40c3-8e52-19874aa01c82",
   "metadata": {},
   "outputs": [],
   "source": []
  }
 ],
 "metadata": {
  "kernelspec": {
   "display_name": "Python 3",
   "language": "python",
   "name": "python3"
  },
  "language_info": {
   "codemirror_mode": {
    "name": "ipython",
    "version": 3
   },
   "file_extension": ".py",
   "mimetype": "text/x-python",
   "name": "python",
   "nbconvert_exporter": "python",
   "pygments_lexer": "ipython3",
   "version": "3.8.13"
  }
 },
 "nbformat": 4,
 "nbformat_minor": 5
}
