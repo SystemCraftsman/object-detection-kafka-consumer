{
 "cells": [
  {
   "cell_type": "code",
   "execution_count": null,
   "id": "8a13b8ea-1d84-43fc-b83a-8bd5b277bc4e",
   "metadata": {
    "tags": []
   },
   "outputs": [],
   "source": [
    "!pip install -r requirements.txt"
   ]
  },
  {
   "cell_type": "code",
   "execution_count": null,
   "id": "dd658a1f-581d-4370-9ed4-02fa1ad59b10",
   "metadata": {
    "tags": []
   },
   "outputs": [],
   "source": [
    "!oc new-project kafka && kfk clusters --create --cluster my-cluster --replicas 1 --zk-replicas 1 -n kafka -y"
   ]
  },
  {
   "cell_type": "code",
   "execution_count": null,
   "id": "5908ecca-e5bc-490b-af31-eb032d963215",
   "metadata": {},
   "outputs": [],
   "source": [
    "!kfk topics --create --topic images --partitions 1 --replication-factor 1 -c my-cluster -n kafka"
   ]
  },
  {
   "cell_type": "code",
   "execution_count": null,
   "id": "37d4d81d-0cea-41e4-884b-eb101b6398d9",
   "metadata": {},
   "outputs": [],
   "source": [
    "!kfk topics --create --topic objects --partitions 1 --replication-factor 1 -c my-cluster -n kafka"
   ]
  },
  {
   "cell_type": "code",
   "execution_count": null,
   "id": "1e0ada27-400f-4d57-affa-32d6157626b8",
   "metadata": {},
   "outputs": [],
   "source": [
    "!kfk topics --create --topic notebook-test --partitions 1 --replication-factor 1 -c my-cluster -n kafka"
   ]
  },
  {
   "cell_type": "code",
   "execution_count": null,
   "id": "bc9d345b-f6b9-4255-a890-7ea4cfbf8af3",
   "metadata": {},
   "outputs": [],
   "source": [
    "!kfk topics --list -c my-cluster -n kafka"
   ]
  }
 ],
 "metadata": {
  "kernelspec": {
   "display_name": "Python 3",
   "language": "python",
   "name": "python3"
  },
  "language_info": {
   "codemirror_mode": {
    "name": "ipython",
    "version": 3
   },
   "file_extension": ".py",
   "mimetype": "text/x-python",
   "name": "python",
   "nbconvert_exporter": "python",
   "pygments_lexer": "ipython3",
   "version": "3.8.13"
  }
 },
 "nbformat": 4,
 "nbformat_minor": 5
}
